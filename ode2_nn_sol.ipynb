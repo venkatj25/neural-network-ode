{
  "cells": [
    {
      "attachments": {},
      "cell_type": "markdown",
      "metadata": {
        "id": "42xiXP9Lw29l"
      },
      "source": [
        "**Define neural network model**"
      ]
    },
    {
      "attachments": {},
      "cell_type": "markdown",
      "metadata": {
        "id": "-cc33_W9xFCY"
      },
      "source": [
        "The neural network contains 5 layers, with linear and tanh activation functions"
      ]
    },
    {
      "cell_type": "code",
      "execution_count": 22,
      "metadata": {
        "id": "5I7eGYtsooDP"
      },
      "outputs": [],
      "source": [
        "import torch\n",
        "import torch.nn as nn\n",
        "\n",
        "class NeuralNetwork(nn.Module):\n",
        "  def __init__(self, input_size=1, output_size = 1):\n",
        "    super(NeuralNetwork, self).__init__()\n",
        "    self.layer1_linear = nn.Linear(in_features=1, out_features=50)\n",
        "    self.layer2_Tanh = nn.Tanh()\n",
        "    self.layer3_linear = nn.Linear(in_features=50, out_features=20)\n",
        "    self.layer4_Tanh = nn.Tanh()\n",
        "    self.layer5_linear = nn.Linear(in_features=20, out_features=1)\n",
        "\n",
        "  def forward(self, x):\n",
        "    x = self.layer1_linear(x)\n",
        "    x = self.layer2_Tanh(x)\n",
        "    x = self.layer3_linear(x)\n",
        "    x = self.layer4_Tanh(x)\n",
        "    x = self.layer5_linear(x)\n",
        "    return x"
      ]
    },
    {
      "attachments": {},
      "cell_type": "markdown",
      "metadata": {
        "id": "xsqaccdSxc5J"
      },
      "source": [
        "**Define loss functions**"
      ]
    },
    {
      "cell_type": "code",
      "execution_count": 23,
      "metadata": {
        "id": "XcrVDCiiowf2"
      },
      "outputs": [],
      "source": [
        "def loss_DE(y_pred, X):\n",
        "  dy_dt = torch.autograd.grad(y_pred,\n",
        "                                X,\n",
        "                                grad_outputs=torch.ones_like(y_pred),\n",
        "                                create_graph=True)[0]\n",
        "  d2y_dt2 = torch.autograd.grad(dy_dt,\n",
        "                                X,\n",
        "                                grad_outputs=torch.ones_like(y_pred),\n",
        "                                create_graph=True)[0]\n",
        "  loss_de = nn.MSELoss()(dy_dt + d2y_dt2 + y_pred, torch.zeros_like(y_pred))\n",
        "  return loss_de\n",
        "\n",
        "def loss_IC(y_true, y_pred):\n",
        "  return nn.MSELoss()(y_true, y_pred)"
      ]
    },
    {
      "cell_type": "code",
      "execution_count": 24,
      "metadata": {
        "id": "1PdFL5PqrZwT"
      },
      "outputs": [],
      "source": [
        "# Define input\n",
        "X = torch.arange(0.0, 5.0, 0.001).reshape(5000,1)\n",
        "X.requires_grad_(True)\n",
        "\n",
        "# Instantiate model\n",
        "model = NeuralNetwork()\n",
        "\n",
        "# Specify hyperparametrs\n",
        "training_epochs = 5000\n",
        "learning_rate = 0.01\n",
        "optimizer = torch.optim.SGD(model.parameters(), lr=learning_rate)"
      ]
    },
    {
      "cell_type": "code",
      "execution_count": 25,
      "metadata": {
        "id": "OX1NYcH6rfx9"
      },
      "outputs": [],
      "source": [
        "# Train model\n",
        "\n",
        "for epoch in range(training_epochs):\n",
        "  # Forward pass\n",
        "  Y_pred = model(X)\n",
        "\n",
        "  # Calculate predictions of y and dy_dx at x = 0\n",
        "  x_0 = torch.tensor([[0.0]], requires_grad=True)\n",
        "  y_0 = model(x_0)\n",
        "  dy_dx_0 = torch.autograd.grad(y_0,x_0,grad_outputs=torch.ones_like(y_0),\n",
        "                                create_graph=True)[0]\n",
        "\n",
        "  # Calculate loss\n",
        "  loss_de = loss_DE(Y_pred, X)\n",
        "  loss_ic_y = loss_IC(y_0, torch.tensor([[1.0]]))\n",
        "  loss_ic_dy = loss_IC(dy_dx_0, torch.tensor([[0.366]]))\n",
        "  loss = loss_de + 10*(loss_ic_y)  + 5*(loss_ic_dy)\n",
        "\n",
        "  # Set gradients to zero\n",
        "  optimizer.zero_grad()\n",
        "\n",
        "  # Compute gradients\n",
        "  loss.backward()\n",
        "\n",
        "  # Update parameters\n",
        "  optimizer.step()"
      ]
    },
    {
      "attachments": {},
      "cell_type": "markdown",
      "metadata": {
        "id": "Fn01k7E7yzuw"
      },
      "source": [
        "**Evaluate model**"
      ]
    },
    {
      "attachments": {},
      "cell_type": "markdown",
      "metadata": {
        "id": "qlAFN9qo3Ne5"
      },
      "source": [
        "Enter evaluation mode.  \n",
        "Define test values of x from 0 to 2 with step size 0.01.  \n",
        "Find predicted values of y from model\n"
      ]
    },
    {
      "cell_type": "code",
      "execution_count": 26,
      "metadata": {
        "colab": {
          "base_uri": "https://localhost:8080/"
        },
        "id": "cdFT34Mg1U8O",
        "outputId": "1798b0b8-bd73-42db-8a28-3ce6de999f7f"
      },
      "outputs": [
        {
          "name": "stdout",
          "output_type": "stream",
          "text": [
            "First five predictions:\n",
            "tensor([[0.9981],\n",
            "        [1.0017],\n",
            "        [1.0051],\n",
            "        [1.0084],\n",
            "        [1.0116]])\n"
          ]
        }
      ],
      "source": [
        "model.eval()\n",
        "X_test = torch.arange(0.0, 5.0, 0.01).reshape(500,1) #\n",
        "Y_pred = None\n",
        "with torch.no_grad():\n",
        "    Y_pred = model(X_test)\n",
        "    print(f'First five predictions:\\n{Y_pred[:5]}')"
      ]
    },
    {
      "attachments": {},
      "cell_type": "markdown",
      "metadata": {
        "id": "wxH92PP-3mWf"
      },
      "source": [
        "Calculate function values of analytical solution   \n",
        "y = e^(-x/2)[sin(3^0.5/2 * x)] + e^(-x/2)[sin(3^0.5/2 * x)] in interval [0,2]"
      ]
    },
    {
      "cell_type": "code",
      "execution_count": 27,
      "metadata": {
        "colab": {
          "base_uri": "https://localhost:8080/"
        },
        "id": "k2lQaUsazmgW",
        "outputId": "205afb5d-68bc-442b-df9f-cc1ad8e7da6f"
      },
      "outputs": [
        {
          "name": "stdout",
          "output_type": "stream",
          "text": [
            "[1.0, 1.0035918689456067, 1.0070481443695478, 1.0103698315627376, 1.0135579392043308]\n"
          ]
        }
      ],
      "source": [
        "from math import cos\n",
        "from math import exp\n",
        "from math import sin\n",
        "\n",
        "Y_test = [0 for i in range(len(X_test))]\n",
        "for i, x in enumerate(X_test):\n",
        "  a = exp(-x/2)\n",
        "  b =  sin(0.866*x) + cos(0.866*x)\n",
        "  Y_test[i] = a * b\n",
        "print(Y_test[:5]) # print first five values"
      ]
    },
    {
      "attachments": {},
      "cell_type": "markdown",
      "metadata": {
        "id": "QUQQYAHS6lVr"
      },
      "source": [
        "Plot the analytic solution and model predictions"
      ]
    },
    {
      "cell_type": "code",
      "execution_count": 28,
      "metadata": {
        "colab": {
          "base_uri": "https://localhost:8080/",
          "height": 472
        },
        "id": "SDrMER4y0hoM",
        "outputId": "9c43a11f-51a6-4923-f4e0-43cbfe19c564"
      },
      "outputs": [
        {
          "data": {
            "image/png": "[encoded data removed]",
            "text/plain": [
              "<Figure size 640x480 with 1 Axes>"
            ]
          },
          "metadata": {},
          "output_type": "display_data"
        }
      ],
      "source": [
        "import matplotlib.pyplot as plt\n",
        "import numpy as np\n",
        "\n",
        "Y_pred = Y_pred.detach().cpu().numpy()\n",
        "Y_test = np.array(Y_test)\n",
        "\n",
        "plt.plot(X_test, Y_test, label='Analytic')\n",
        "plt.plot(X_test, Y_pred, label='Model', linestyle='dashed')\n",
        "plt.legend()\n",
        "plt.xlabel('X')\n",
        "plt.ylabel('Y')\n",
        "plt.title('Analytic Solution and Neural Network prediction')\n",
        "plt.grid(True)\n",
        "plt.show()"
      ]
    }
  ],
  "metadata": {
    "colab": {
      "provenance": []
    },
    "kernelspec": {
      "display_name": "Python 3",
      "name": "python3"
    },
    "language_info": {
      "name": "python"
    }
  },
  "nbformat": 4,
  "nbformat_minor": 0
}
